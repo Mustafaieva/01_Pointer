{
  "nbformat": 4,
  "nbformat_minor": 0,
  "metadata": {
    "colab": {
      "name": "Untitled15.ipynb",
      "version": "0.3.2",
      "provenance": [],
      "include_colab_link": true
    },
    "kernelspec": {
      "name": "python2",
      "display_name": "Python 2"
    }
  },
  "cells": [
    {
      "cell_type": "markdown",
      "metadata": {
        "id": "view-in-github",
        "colab_type": "text"
      },
      "source": [
        "<a href=\"https://colab.research.google.com/github/Mustafaieva/01_Pointer/blob/master/Example%20%233..ipynb\" target=\"_parent\"><img src=\"https://colab.research.google.com/assets/colab-badge.svg\" alt=\"Open In Colab\"/></a>"
      ]
    },
    {
      "metadata": {
        "id": "pT3KTA75tvTD",
        "colab_type": "code",
        "colab": {}
      },
      "cell_type": "code",
      "source": [
        "#include <stdio.h>\n",
        "#include <stdlib.h>\n",
        "\n",
        "\n",
        "\n",
        "int main()\n",
        " {\n",
        "    int a = 5;\n",
        "\n",
        "    printf(\"Value of a: %d\\n\\n\", a);\n",
        "    printf(\"Address of a:  %p\\n\", &a);\n",
        "    printf(\"In  the decimal system: %u\\n\\n\", &a);\n",
        "\n",
        "    int * p;\n",
        "\n",
        "    p = &a;\n",
        "\n",
        "    printf(\"p : %p\\n\", p);\n",
        "    printf(\"*p : %d\\n\\n\", *p);\n",
        "\n",
        "    *p = 32;\n",
        "\n",
        "    printf(\"Value of a: %d\\n\", a);\n",
        "return 0;\n",
        "}"
      ],
      "execution_count": 0,
      "outputs": []
    },
    {
      "metadata": {
        "id": "xultT6dNtwti",
        "colab_type": "text"
      },
      "cell_type": "markdown",
      "source": [
        "\n",
        "# How to Use Pointers?\n",
        "\n",
        "> int a = 5;\n",
        "\n",
        "This assigns 5 to the variable a, i.e., 5 is stored in the memory location of variable a.\n",
        "Here, a pointer p of type int, is created:\n",
        "\n",
        "> int * p;\n",
        "\n",
        "The address of the 'a'  is stored in the pointer variable:\n",
        "\n",
        ">p = &a;\n",
        "\n",
        "The address is stored in the pointer variable:\n",
        "\n",
        "> printf(\"p : %p\\n\", p);\n",
        "\n",
        "Access the value using the pointer:\n",
        "\n",
        "> printf(\"*p : %d\\n\\n\", *p);\n",
        "\n",
        "This change the value at the memory location pointed by pointer p to 32:\n",
        "\n",
        ">  *p = 32;\n",
        "\n",
        "Since the address of the pointer p is same as the address of a, value of a is also changed to 32.\n"
      ]
    }
  ]
}