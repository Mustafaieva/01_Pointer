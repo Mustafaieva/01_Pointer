{
  "nbformat": 4,
  "nbformat_minor": 0,
  "metadata": {
    "colab": {
      "name": "Untitled2.ipynb",
      "version": "0.3.2",
      "provenance": [],
      "include_colab_link": true
    },
    "kernelspec": {
      "name": "python2",
      "display_name": "Python 2"
    }
  },
  "cells": [
    {
      "cell_type": "markdown",
      "metadata": {
        "id": "view-in-github",
        "colab_type": "text"
      },
      "source": [
        "<a href=\"https://colab.research.google.com/github/Mustafaieva/01_Pointer/blob/master/Example%20%235..ipynb\" target=\"_parent\"><img src=\"https://colab.research.google.com/assets/colab-badge.svg\" alt=\"Open In Colab\"/></a>"
      ]
    },
    {
      "metadata": {
        "id": "hhq2xx-Kv1Lq",
        "colab_type": "code",
        "colab": {}
      },
      "cell_type": "code",
      "source": [
        "#include <stdio.h>\n",
        "void swap1(int x, int y) {\n",
        "int tmp = x;\n",
        "x = y;\n",
        "y = tmp;\n",
        "}\n",
        "void swap2(int *x, int *y) {\n",
        "int tmp = *x;\n",
        "*x = *y;\n",
        "*y = tmp;\n",
        "}\n",
        "int main() {\n",
        "int a = 1;\n",
        "int b = 2;\n",
        "printf(\"a: %d - b: %d\\n\", a, b);\n",
        "swap1(a, b);\n",
        "printf(\"a: %d - b: %d\\n\\n\", a, b);\n",
        "printf(\"a: %d - b: %d\\n\", a, b);\n",
        "swap2(&a, &b);\n",
        "printf(\"a: %d - b: %d\\n\", a, b);\n",
        "return 0;\n",
        "}"
      ],
      "execution_count": 0,
      "outputs": []
    },
    {
      "metadata": {
        "id": "uMpNGaWNv6FI",
        "colab_type": "text"
      },
      "cell_type": "markdown",
      "source": [
        "# Passing address to a Function\n",
        "This code tells the compiler to print out the values of 'a' and 'b':\n",
        "\n",
        "> int a = 1;\n",
        "\n",
        "    int b = 2;\n",
        "\n",
        "  printf(\"a: %d - b: %d\\n\", a, b);\n",
        "  \n",
        "  \n",
        "  \n",
        "  The address of 'a' and 'b' are passed to the swap2 () function using swap (& a, &b) ;. Pointers x and y stores them:\n",
        "\n",
        "\n",
        "> void swap2(int *x, int *y) {\n",
        "\n",
        "      int tmp = *x;\n",
        "\n",
        "      *x = *y;\n",
        "\n",
        "      *y = tmp;}\n",
        "\n",
        "When  * x and * y are changed inside the swap2 () function, 'a' and 'b' are also changed inside the main () function.\n",
        "\n",
        "Inside the swap2 () function, * x and * y swapped. Hence, the value stored in a and b are also swapped.\n",
        "\n",
        "\n",
        "> swap2(&a, &b);\n",
        "\n",
        "     printf(\"a: %d - b: %d\\n\", a, b);\n",
        "\n",
        "\n",
        "\n",
        "\n",
        "\n",
        "\n",
        "\n",
        "\n",
        "\n",
        "\n"
      ]
    }
  ]
}