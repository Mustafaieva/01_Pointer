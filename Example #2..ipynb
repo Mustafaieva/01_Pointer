{
  "nbformat": 4,
  "nbformat_minor": 0,
  "metadata": {
    "colab": {
      "name": "Untitled0.ipynb",
      "version": "0.3.2",
      "provenance": [],
      "include_colab_link": true
    },
    "kernelspec": {
      "name": "python3",
      "display_name": "Python 3"
    }
  },
  "cells": [
    {
      "cell_type": "markdown",
      "metadata": {
        "id": "view-in-github",
        "colab_type": "text"
      },
      "source": [
        "<a href=\"https://colab.research.google.com/github/Mustafaieva/01_Pointer/blob/master/Example%20%232..ipynb\" target=\"_parent\"><img src=\"https://colab.research.google.com/assets/colab-badge.svg\" alt=\"Open In Colab\"/></a>"
      ]
    },
    {
      "metadata": {
        "id": "wHIEBvN2qCdW",
        "colab_type": "code",
        "colab": {}
      },
      "cell_type": "code",
      "source": [
        "#include <stdio.h>\n",
        "#include <stdlib.h>\n",
        "\n",
        "char a = 'T';\n",
        "char b = 'E';\n",
        "char c = 'S';\n",
        "char d = 'T';\n",
        "int main() \n",
        "{\n",
        "    printf(\"Address of a: %d \\n\", &a);\n",
        "    printf(\"Address of b: %d \\n\", &b);\n",
        "    printf(\"Address of c: %d \\n\", &c);\n",
        "    printf(\"Address of d: %d \\n\", &d);\n",
        "    printf(\"Value of a: %d\\n\", a);\n",
        "    \n",
        "    char *p;\n",
        "    \n",
        "    p = &a;\n",
        "    \n",
        "    printf(\"Value of p: %d\\n\", p);\n",
        "    printf(\" Value of *p: %d\\n\\n\", *p);\n",
        "    \n",
        "    *p = 'B'; // ascii code 66\n",
        "    \n",
        "    printf(\"Value of a: %d\\n\", a);\n",
        "    printf(\"Value of *p: %d\\n\", *p);\n",
        "return 0;\n",
        "}"
      ],
      "execution_count": 0,
      "outputs": []
    },
    {
      "metadata": {
        "id": "UCp37kEWqg02",
        "colab_type": "text"
      },
      "cell_type": "markdown",
      "source": [
        "# Memory Location\n",
        "This code tells that If you have a variable 'a' in your program, &a will give you its address in the memory, & It was used  to store the user inputted value in the address of a:\n",
        "\n",
        "\n",
        "> printf(\"Address of a: %d \\n\", &a);\n",
        "\n",
        "> printf(\"Value of a: %d\\n\", a);\n",
        "\n",
        "\n",
        "In above source code, *p is the name of the pointer variable, that stores an address (and not a value).\n",
        "\n",
        "\n",
        "> char *p;\n",
        "\n",
        "\n",
        "This assigns the address of variable a to the pointer p.\n",
        "You see the value of p is same as the address of a and the content of a is 84 as well.\n",
        "\n",
        "\n",
        "> p = &a;\n",
        "\n",
        "This change the value at the memory location pointed by pointer p to 66.\n",
        "Since the address of the pointer p is same as the address of a, value of a is also changed to 66.\n",
        "\n",
        ">  *p = 'B';\n",
        "\n",
        "\n",
        "\n",
        "\n",
        "\n",
        "\n",
        "\n",
        "\n"
      ]
    },
    {
      "metadata": {
        "id": "ax-ab8jSqHZB",
        "colab_type": "text"
      },
      "cell_type": "markdown",
      "source": [
        ""
      ]
    }
  ]
}