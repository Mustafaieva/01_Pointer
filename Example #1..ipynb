{
  "nbformat": 4,
  "nbformat_minor": 0,
  "metadata": {
    "colab": {
      "name": "Untitled17.ipynb",
      "version": "0.3.2",
      "provenance": [],
      "include_colab_link": true
    },
    "kernelspec": {
      "name": "python2",
      "display_name": "Python 2"
    }
  },
  "cells": [
    {
      "cell_type": "markdown",
      "metadata": {
        "id": "view-in-github",
        "colab_type": "text"
      },
      "source": [
        "<a href=\"https://colab.research.google.com/github/Mustafaieva/01_Pointer/blob/master/Example%20%231..ipynb\" target=\"_parent\"><img src=\"https://colab.research.google.com/assets/colab-badge.svg\" alt=\"Open In Colab\"/></a>"
      ]
    },
    {
      "metadata": {
        "id": "6cXjYPlo3FYN",
        "colab_type": "code",
        "colab": {}
      },
      "cell_type": "code",
      "source": [
        "\n",
        "#include <stdio.h>\n",
        "#include <stdlib.h>\n",
        "\n",
        "\n",
        "int main ()\n",
        "{\n",
        "    int sum = 150;\n",
        "    short int age = 17;\n",
        "    double average= 14;\n",
        "\n",
        "    printf(\"The sum is: %d\\n\", sum);\n",
        "    printf(\"The age is: %d\\n\", age);\n",
        "    printf(\"The average is: %f\\n\", average);\n",
        "\n",
        "return 0;\n",
        "\n",
        "}\n"
      ],
      "execution_count": 0,
      "outputs": []
    },
    {
      "metadata": {
        "id": "md1Ro28A4LJJ",
        "colab_type": "text"
      },
      "cell_type": "markdown",
      "source": [
        "# New Section\n",
        "This code tells the compiler to print out an Integer value:\n",
        "\n",
        "\n",
        ">  printf(\"The sum is: %d\\n\", sum);\n",
        "\n",
        "and  a  short integer value:\n",
        "\n",
        "\n",
        "> printf(\"The age is: %d\\n\", age);\n",
        "\n",
        "and a double value:\n",
        "\n",
        "\n",
        ">  printf(\"The average is: %f\\n\", average);\n",
        "\n",
        "\n"
      ]
    }
  ]
}