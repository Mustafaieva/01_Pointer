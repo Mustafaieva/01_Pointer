{
  "nbformat": 4,
  "nbformat_minor": 0,
  "metadata": {
    "colab": {
      "name": "Untitled16.ipynb",
      "version": "0.3.2",
      "provenance": [],
      "include_colab_link": true
    },
    "kernelspec": {
      "name": "python2",
      "display_name": "Python 2"
    }
  },
  "cells": [
    {
      "cell_type": "markdown",
      "metadata": {
        "id": "view-in-github",
        "colab_type": "text"
      },
      "source": [
        "<a href=\"https://colab.research.google.com/github/Mustafaieva/01_Pointer/blob/master/Example%20%234..ipynb\" target=\"_parent\"><img src=\"https://colab.research.google.com/assets/colab-badge.svg\" alt=\"Open In Colab\"/></a>"
      ]
    },
    {
      "metadata": {
        "id": "2KKzDWFNuWSA",
        "colab_type": "code",
        "colab": {}
      },
      "cell_type": "code",
      "source": [
        "#include <stdio.h>\n",
        "#include <stdlib.h>\n",
        "\n",
        "\n",
        "\n",
        "void fun1(int x) \n",
        "{\n",
        "    x = 20;\n",
        "}\n",
        "void fun2(int *x) \n",
        "{\n",
        "    *x = 30;\n",
        "}\n",
        "int main() \n",
        "{\n",
        "    int a = 5;\n",
        "    \n",
        "    printf(\"a: %d\\n\", a);\n",
        "    \n",
        "    fun1(a);\n",
        "    printf(\"a: %d\\n\", a);\n",
        "   \n",
        "    fun2(&a);\n",
        "    printf(\"a: %d\\n\", a);\n",
        "return 0;\n",
        "}\n"
      ],
      "execution_count": 0,
      "outputs": []
    },
    {
      "metadata": {
        "id": "CnHu4d0CuZgy",
        "colab_type": "text"
      },
      "cell_type": "markdown",
      "source": [
        "#Passing address to a Function.\n",
        "\n",
        "\n",
        "\n",
        "> int a = 5;\n",
        "\n",
        "  printf(\"a: %d\\n\", a);\n",
        "  \n",
        "\n",
        "This code tells the compiler to print out the value of 'a'.\n",
        "\n",
        "\n",
        "> printf(\"a: %d\\n\", a);\n",
        "\n",
        "\n",
        "Output the returned value from the function fun1(a);\n",
        "\n",
        "\n",
        "> fun2(&a);\n",
        "\n",
        "printf(\"a: %d\\n\", a);\n",
        "\n",
        "\n",
        "When the x is changed, the 'a' is also changed respectively. Inside the fun2 () function, x is value is 30. Hence, the value stored in 'a' are also changed to 30."
      ]
    }
  ]
}